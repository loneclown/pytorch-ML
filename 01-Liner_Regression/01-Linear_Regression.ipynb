{
 "cells": [
  {
   "cell_type": "code",
   "execution_count": 1,
   "metadata": {},
   "outputs": [],
   "source": [
    "import matplotlib.pyplot as plt\n",
    "import numpy as np\n",
    "import torch\n",
    "from torch import nn\n",
    "from torch.autograd import Variable"
   ]
  },
  {
   "cell_type": "code",
   "execution_count": 2,
   "metadata": {},
   "outputs": [],
   "source": [
    "#首先是一系列训练数据，使用numpy来存储\n",
    "#即一些的点作为线性回归的数据\n",
    "x_train = np.array([[3.3], [4.4], [5.5], [6.71], [6.93], [4.168],\n",
    "                    [9.779], [6.182], [7.59], [2.167], [7.042],\n",
    "                    [10.791], [5.313], [7.997], [3.1]], dtype=np.float32)\n",
    " \n",
    "y_train = np.array([[1.7], [2.76], [2.09], [3.19], [1.694], [1.573],\n",
    "                    [3.366], [2.596], [2.53], [1.221], [2.827],\n",
    "                    [3.465], [1.65], [2.904], [1.3]], dtype=np.float32)"
   ]
  },
  {
   "cell_type": "code",
   "execution_count": 3,
   "metadata": {},
   "outputs": [],
   "source": [
    "# 将numpy形式转换为tenor\n",
    "x_train = torch.from_numpy(x_train)\n",
    "\n",
    "y_train = torch.from_numpy(y_train)"
   ]
  },
  {
   "cell_type": "code",
   "execution_count": 6,
   "metadata": {},
   "outputs": [],
   "source": [
    "# 定义线性回归模型\n",
    "# Linear Regression Model\n",
    "class LinearRegression(nn.Module):\n",
    "    def __init__(self):\n",
    "        super(LinearRegression, self).__init__()\n",
    "        self.linear = nn.Linear(1, 1)  # input and output is 1 dimension\n",
    "    \n",
    "    def forward(self, x):\n",
    "        out = self.linear(x)\n",
    "        return out\n",
    "\n",
    "model = LinearRegression()    \n",
    "\n",
    "#这里的nn.Linear表示的是 y=w*x+b，里面的两个参数都是1，表示的是x是1维，y也是1维。"
   ]
  },
  {
   "cell_type": "code",
   "execution_count": 7,
   "metadata": {},
   "outputs": [],
   "source": [
    "# 定义 loss 和优化函数\n",
    "# 定义loss和优化函数\n",
    "# 使用的是最小二乘loss\n",
    "# 优化函数为随机梯度下降\n",
    "# 将model的参数model.parameters()传进去让这个函数知道他要优化的参数是那些\n",
    "criterion = nn.MSELoss()\n",
    "optimizer = torch.optim.SGD(model.parameters(), lr=1e-4)"
   ]
  },
  {
   "cell_type": "code",
   "execution_count": 8,
   "metadata": {},
   "outputs": [
    {
     "name": "stdout",
     "output_type": "stream",
     "text": [
      "Epoch[20/1000], loss: 10.712464\n",
      "Epoch[40/1000], loss: 7.622754\n",
      "Epoch[60/1000], loss: 5.439115\n",
      "Epoch[80/1000], loss: 3.895837\n",
      "Epoch[100/1000], loss: 2.805131\n",
      "Epoch[120/1000], loss: 2.034278\n",
      "Epoch[140/1000], loss: 1.489480\n",
      "Epoch[160/1000], loss: 1.104445\n",
      "Epoch[180/1000], loss: 0.832321\n",
      "Epoch[200/1000], loss: 0.639996\n",
      "Epoch[220/1000], loss: 0.504069\n",
      "Epoch[240/1000], loss: 0.408002\n",
      "Epoch[260/1000], loss: 0.340104\n",
      "Epoch[280/1000], loss: 0.292115\n",
      "Epoch[300/1000], loss: 0.258197\n",
      "Epoch[320/1000], loss: 0.234224\n",
      "Epoch[340/1000], loss: 0.217278\n",
      "Epoch[360/1000], loss: 0.205300\n",
      "Epoch[380/1000], loss: 0.196831\n",
      "Epoch[400/1000], loss: 0.190845\n",
      "Epoch[420/1000], loss: 0.186611\n",
      "Epoch[440/1000], loss: 0.183617\n",
      "Epoch[460/1000], loss: 0.181498\n",
      "Epoch[480/1000], loss: 0.179999\n",
      "Epoch[500/1000], loss: 0.178937\n",
      "Epoch[520/1000], loss: 0.178184\n",
      "Epoch[540/1000], loss: 0.177650\n",
      "Epoch[560/1000], loss: 0.177270\n",
      "Epoch[580/1000], loss: 0.176999\n",
      "Epoch[600/1000], loss: 0.176806\n",
      "Epoch[620/1000], loss: 0.176667\n",
      "Epoch[640/1000], loss: 0.176566\n",
      "Epoch[660/1000], loss: 0.176493\n",
      "Epoch[680/1000], loss: 0.176439\n",
      "Epoch[700/1000], loss: 0.176399\n",
      "Epoch[720/1000], loss: 0.176368\n",
      "Epoch[740/1000], loss: 0.176344\n",
      "Epoch[760/1000], loss: 0.176325\n",
      "Epoch[780/1000], loss: 0.176309\n",
      "Epoch[800/1000], loss: 0.176296\n",
      "Epoch[820/1000], loss: 0.176284\n",
      "Epoch[840/1000], loss: 0.176274\n",
      "Epoch[860/1000], loss: 0.176264\n",
      "Epoch[880/1000], loss: 0.176255\n",
      "Epoch[900/1000], loss: 0.176246\n",
      "Epoch[920/1000], loss: 0.176238\n",
      "Epoch[940/1000], loss: 0.176230\n",
      "Epoch[960/1000], loss: 0.176222\n",
      "Epoch[980/1000], loss: 0.176215\n",
      "Epoch[1000/1000], loss: 0.176207\n"
     ]
    }
   ],
   "source": [
    "# 开始训练\n",
    "# 第一个for循环表示每个epoch，接着开始前向传播，然后计算loss，然后反向传播，接着优化参数，\n",
    "#特别注意的是在每次反向传播的时候需要将参数的梯度归零\n",
    "\n",
    "num_epochs = 1000\n",
    "for epoch in range(num_epochs):\n",
    "    inputs = x_train\n",
    "    target = y_train\n",
    "\n",
    "    # forward\n",
    "    out = model(inputs)  #前向传播\n",
    "    loss = criterion(out, target) #计算loss\n",
    "    # backward\n",
    "    optimizer.zero_grad() #梯度归零\n",
    "    loss.backward()  #反向传播\n",
    "    optimizer.step() #更新参数\n",
    "\n",
    "    if (epoch+1) % 20 == 0:\n",
    "        print(f'Epoch[{epoch+1}/{num_epochs}], loss: {loss.item():.6f}')\n"
   ]
  },
  {
   "cell_type": "code",
   "execution_count": 9,
   "metadata": {},
   "outputs": [],
   "source": [
    "# 测试模型\n",
    "model.eval()  #让model变成测试模式，这主要是对dropout和batch normalization的操作在训练和测试的时候是不一样的\n",
    "with torch.no_grad():\n",
    "    predict = model(x_train)\n",
    "predict = predict.data.numpy()"
   ]
  },
  {
   "cell_type": "code",
   "execution_count": 10,
   "metadata": {},
   "outputs": [
    {
     "data": {
      "image/png": "[encoded data removed]",
      "text/plain": [
       "<Figure size 720x360 with 1 Axes>"
      ]
     },
     "metadata": {
      "needs_background": "light"
     },
     "output_type": "display_data"
    }
   ],
   "source": [
    "# matlab 显示测试结果\n",
    "fig = plt.figure(figsize=(10, 5))\n",
    "plt.plot(x_train.numpy(), y_train.numpy(), 'ro', label='Original data')\n",
    "plt.plot(x_train.numpy(), predict, label='Fitting Line')\n",
    "# 显示图例\n",
    "plt.legend() \n",
    "plt.show()"
   ]
  },
  {
   "cell_type": "code",
   "execution_count": 11,
   "metadata": {},
   "outputs": [],
   "source": [
    "# 保存模型\n",
    "torch.save(model.state_dict(), './linear.pth')"
   ]
  },
  {
   "cell_type": "code",
   "execution_count": null,
   "metadata": {},
   "outputs": [],
   "source": []
  }
 ],
 "metadata": {
  "kernelspec": {
   "display_name": "Python 3",
   "language": "python",
   "name": "python3"
  },
  "language_info": {
   "codemirror_mode": {
    "name": "ipython",
    "version": 3
   },
   "file_extension": ".py",
   "mimetype": "text/x-python",
   "name": "python",
   "nbconvert_exporter": "python",
   "pygments_lexer": "ipython3",
   "version": "3.6.9"
  }
 },
 "nbformat": 4,
 "nbformat_minor": 2
}
